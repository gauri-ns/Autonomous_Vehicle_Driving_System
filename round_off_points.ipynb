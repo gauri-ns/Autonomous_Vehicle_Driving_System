{
 "cells": [
  {
   "cell_type": "code",
   "execution_count": 2,
   "metadata": {},
   "outputs": [
    {
     "name": "stdout",
     "output_type": "stream",
     "text": [
      "Successfully rounded coordinates in E:/intern_work_testing/2d_front_view\\000000.csv\n",
      "Successfully rounded coordinates in E:/intern_work_testing/2d_front_view\\000001.csv\n",
      "Successfully rounded coordinates in E:/intern_work_testing/2d_front_view\\000002.csv\n",
      "Successfully rounded coordinates in E:/intern_work_testing/2d_front_view\\000003.csv\n",
      "Successfully rounded coordinates in E:/intern_work_testing/2d_front_view\\000004.csv\n",
      "Successfully rounded coordinates in E:/intern_work_testing/2d_front_view\\000005.csv\n",
      "Successfully rounded coordinates in E:/intern_work_testing/2d_front_view\\000006.csv\n",
      "Successfully rounded coordinates in E:/intern_work_testing/2d_front_view\\000007.csv\n",
      "Successfully rounded coordinates in E:/intern_work_testing/2d_front_view\\000008.csv\n",
      "Successfully rounded coordinates in E:/intern_work_testing/2d_front_view\\000009.csv\n",
      "Successfully rounded coordinates in E:/intern_work_testing/2d_front_view\\000010.csv\n",
      "Successfully rounded coordinates in E:/intern_work_testing/2d_front_view\\000011.csv\n",
      "Successfully rounded coordinates in E:/intern_work_testing/2d_front_view\\000012.csv\n",
      "Successfully rounded coordinates in E:/intern_work_testing/2d_front_view\\000013.csv\n",
      "Successfully rounded coordinates in E:/intern_work_testing/2d_front_view\\000014.csv\n",
      "Successfully rounded coordinates in E:/intern_work_testing/2d_front_view\\000015.csv\n",
      "Successfully rounded coordinates in E:/intern_work_testing/2d_front_view\\000016.csv\n",
      "Successfully rounded coordinates in E:/intern_work_testing/2d_front_view\\000017.csv\n",
      "Successfully rounded coordinates in E:/intern_work_testing/2d_front_view\\000018.csv\n",
      "Successfully rounded coordinates in E:/intern_work_testing/2d_front_view\\000019.csv\n",
      "Successfully rounded coordinates in E:/intern_work_testing/2d_front_view\\000020.csv\n",
      "Successfully rounded coordinates in E:/intern_work_testing/2d_front_view\\000021.csv\n",
      "Successfully rounded coordinates in E:/intern_work_testing/2d_front_view\\000022.csv\n",
      "Successfully rounded coordinates in E:/intern_work_testing/2d_front_view\\000023.csv\n",
      "Successfully rounded coordinates in E:/intern_work_testing/2d_front_view\\000024.csv\n",
      "Successfully rounded coordinates in E:/intern_work_testing/2d_front_view\\000025.csv\n",
      "Successfully rounded coordinates in E:/intern_work_testing/2d_front_view\\000026.csv\n",
      "Successfully rounded coordinates in E:/intern_work_testing/2d_front_view\\000027.csv\n",
      "Successfully rounded coordinates in E:/intern_work_testing/2d_front_view\\000028.csv\n",
      "Successfully rounded coordinates in E:/intern_work_testing/2d_front_view\\000029.csv\n",
      "Successfully rounded coordinates in E:/intern_work_testing/2d_front_view\\000030.csv\n",
      "Successfully rounded coordinates in E:/intern_work_testing/2d_front_view\\000031.csv\n",
      "Successfully rounded coordinates in E:/intern_work_testing/2d_front_view\\000032.csv\n",
      "Successfully rounded coordinates in E:/intern_work_testing/2d_front_view\\000033.csv\n",
      "Successfully rounded coordinates in E:/intern_work_testing/2d_front_view\\000034.csv\n",
      "Successfully rounded coordinates in E:/intern_work_testing/2d_front_view\\000035.csv\n",
      "Successfully rounded coordinates in E:/intern_work_testing/2d_front_view\\000036.csv\n",
      "Successfully rounded coordinates in E:/intern_work_testing/2d_front_view\\000037.csv\n",
      "Successfully rounded coordinates in E:/intern_work_testing/2d_front_view\\000038.csv\n",
      "Successfully rounded coordinates in E:/intern_work_testing/2d_front_view\\000039.csv\n",
      "Successfully rounded coordinates in E:/intern_work_testing/2d_front_view\\000040.csv\n",
      "Successfully rounded coordinates in E:/intern_work_testing/2d_front_view\\000041.csv\n",
      "Successfully rounded coordinates in E:/intern_work_testing/2d_front_view\\000042.csv\n",
      "Successfully rounded coordinates in E:/intern_work_testing/2d_front_view\\000043.csv\n",
      "Successfully rounded coordinates in E:/intern_work_testing/2d_front_view\\000044.csv\n",
      "Successfully rounded coordinates in E:/intern_work_testing/2d_front_view\\000045.csv\n",
      "Successfully rounded coordinates in E:/intern_work_testing/2d_front_view\\000046.csv\n",
      "Successfully rounded coordinates in E:/intern_work_testing/2d_front_view\\000047.csv\n",
      "Successfully rounded coordinates in E:/intern_work_testing/2d_front_view\\000048.csv\n",
      "Successfully rounded coordinates in E:/intern_work_testing/2d_front_view\\000049.csv\n"
     ]
    }
   ],
   "source": [
    "import os\n",
    "import pandas as pd\n",
    "\n",
    "# Define the path to the folder containing the CSV files\n",
    "folder_path = 'E:/intern_work_testing/2d_front_view'\n",
    "\n",
    "# Process each CSV file in the folder\n",
    "for filename in os.listdir(folder_path):\n",
    "    if filename.endswith('.csv'):\n",
    "        file_path = os.path.join(folder_path, filename)\n",
    "\n",
    "        # Load the CSV file\n",
    "        df = pd.read_csv(file_path)\n",
    "\n",
    "        # Round off Xfront and Yfront columns to the nearest integer\n",
    "        df['Xfront'] = df['Xfront'].round().astype(int)\n",
    "        df['Yfront'] = df['Yfront'].round().astype(int)\n",
    "\n",
    "        # Overwrite the original CSV file with the modified data\n",
    "        df.to_csv(file_path, index=False)\n",
    "\n",
    "        print(f'Successfully rounded coordinates in {file_path}')\n"
   ]
  }
 ],
 "metadata": {
  "kernelspec": {
   "display_name": "Python 3",
   "language": "python",
   "name": "python3"
  },
  "language_info": {
   "codemirror_mode": {
    "name": "ipython",
    "version": 3
   },
   "file_extension": ".py",
   "mimetype": "text/x-python",
   "name": "python",
   "nbconvert_exporter": "python",
   "pygments_lexer": "ipython3",
   "version": "3.12.2"
  }
 },
 "nbformat": 4,
 "nbformat_minor": 2
}
