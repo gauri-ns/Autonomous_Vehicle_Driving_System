{
 "cells": [
  {
   "cell_type": "code",
   "execution_count": null,
   "metadata": {},
   "outputs": [
    {
     "name": "stdout",
     "output_type": "stream",
     "text": [
      "Duplicates based on 'Xfront' and 'Yfront' removed: E:/intern_work_testing/2d_front_view\\000000.csv\n",
      "Duplicates based on 'Xfront' and 'Yfront' removed: E:/intern_work_testing/2d_front_view\\000001.csv\n",
      "Duplicates based on 'Xfront' and 'Yfront' removed: E:/intern_work_testing/2d_front_view\\000002.csv\n",
      "Duplicates based on 'Xfront' and 'Yfront' removed: E:/intern_work_testing/2d_front_view\\000003.csv\n",
      "Duplicates based on 'Xfront' and 'Yfront' removed: E:/intern_work_testing/2d_front_view\\000004.csv\n",
      "Duplicates based on 'Xfront' and 'Yfront' removed: E:/intern_work_testing/2d_front_view\\000005.csv\n",
      "Duplicates based on 'Xfront' and 'Yfront' removed: E:/intern_work_testing/2d_front_view\\000006.csv\n",
      "Duplicates based on 'Xfront' and 'Yfront' removed: E:/intern_work_testing/2d_front_view\\000007.csv\n",
      "Duplicates based on 'Xfront' and 'Yfront' removed: E:/intern_work_testing/2d_front_view\\000008.csv\n",
      "Duplicates based on 'Xfront' and 'Yfront' removed: E:/intern_work_testing/2d_front_view\\000009.csv\n",
      "Duplicates based on 'Xfront' and 'Yfront' removed: E:/intern_work_testing/2d_front_view\\000010.csv\n",
      "Duplicates based on 'Xfront' and 'Yfront' removed: E:/intern_work_testing/2d_front_view\\000011.csv\n",
      "Duplicates based on 'Xfront' and 'Yfront' removed: E:/intern_work_testing/2d_front_view\\000012.csv\n",
      "Duplicates based on 'Xfront' and 'Yfront' removed: E:/intern_work_testing/2d_front_view\\000013.csv\n",
      "Duplicates based on 'Xfront' and 'Yfront' removed: E:/intern_work_testing/2d_front_view\\000014.csv\n",
      "Duplicates based on 'Xfront' and 'Yfront' removed: E:/intern_work_testing/2d_front_view\\000015.csv\n",
      "Duplicates based on 'Xfront' and 'Yfront' removed: E:/intern_work_testing/2d_front_view\\000016.csv\n",
      "Duplicates based on 'Xfront' and 'Yfront' removed: E:/intern_work_testing/2d_front_view\\000017.csv\n",
      "Duplicates based on 'Xfront' and 'Yfront' removed: E:/intern_work_testing/2d_front_view\\000018.csv\n",
      "Duplicates based on 'Xfront' and 'Yfront' removed: E:/intern_work_testing/2d_front_view\\000019.csv\n",
      "Duplicates based on 'Xfront' and 'Yfront' removed: E:/intern_work_testing/2d_front_view\\000020.csv\n",
      "Duplicates based on 'Xfront' and 'Yfront' removed: E:/intern_work_testing/2d_front_view\\000021.csv\n",
      "Duplicates based on 'Xfront' and 'Yfront' removed: E:/intern_work_testing/2d_front_view\\000022.csv\n",
      "Duplicates based on 'Xfront' and 'Yfront' removed: E:/intern_work_testing/2d_front_view\\000023.csv\n",
      "Duplicates based on 'Xfront' and 'Yfront' removed: E:/intern_work_testing/2d_front_view\\000024.csv\n",
      "Duplicates based on 'Xfront' and 'Yfront' removed: E:/intern_work_testing/2d_front_view\\000025.csv\n",
      "Duplicates based on 'Xfront' and 'Yfront' removed: E:/intern_work_testing/2d_front_view\\000026.csv\n",
      "Duplicates based on 'Xfront' and 'Yfront' removed: E:/intern_work_testing/2d_front_view\\000027.csv\n",
      "Duplicates based on 'Xfront' and 'Yfront' removed: E:/intern_work_testing/2d_front_view\\000028.csv\n",
      "Duplicates based on 'Xfront' and 'Yfront' removed: E:/intern_work_testing/2d_front_view\\000029.csv\n",
      "Duplicates based on 'Xfront' and 'Yfront' removed: E:/intern_work_testing/2d_front_view\\000030.csv\n",
      "Duplicates based on 'Xfront' and 'Yfront' removed: E:/intern_work_testing/2d_front_view\\000031.csv\n",
      "Duplicates based on 'Xfront' and 'Yfront' removed: E:/intern_work_testing/2d_front_view\\000032.csv\n",
      "Duplicates based on 'Xfront' and 'Yfront' removed: E:/intern_work_testing/2d_front_view\\000033.csv\n",
      "Duplicates based on 'Xfront' and 'Yfront' removed: E:/intern_work_testing/2d_front_view\\000034.csv\n",
      "Duplicates based on 'Xfront' and 'Yfront' removed: E:/intern_work_testing/2d_front_view\\000035.csv\n",
      "Duplicates based on 'Xfront' and 'Yfront' removed: E:/intern_work_testing/2d_front_view\\000036.csv\n",
      "Duplicates based on 'Xfront' and 'Yfront' removed: E:/intern_work_testing/2d_front_view\\000037.csv\n",
      "Duplicates based on 'Xfront' and 'Yfront' removed: E:/intern_work_testing/2d_front_view\\000038.csv\n",
      "Duplicates based on 'Xfront' and 'Yfront' removed: E:/intern_work_testing/2d_front_view\\000039.csv\n",
      "Duplicates based on 'Xfront' and 'Yfront' removed: E:/intern_work_testing/2d_front_view\\000040.csv\n",
      "Duplicates based on 'Xfront' and 'Yfront' removed: E:/intern_work_testing/2d_front_view\\000041.csv\n",
      "Duplicates based on 'Xfront' and 'Yfront' removed: E:/intern_work_testing/2d_front_view\\000042.csv\n",
      "Duplicates based on 'Xfront' and 'Yfront' removed: E:/intern_work_testing/2d_front_view\\000043.csv\n",
      "Duplicates based on 'Xfront' and 'Yfront' removed: E:/intern_work_testing/2d_front_view\\000044.csv\n",
      "Duplicates based on 'Xfront' and 'Yfront' removed: E:/intern_work_testing/2d_front_view\\000045.csv\n",
      "Duplicates based on 'Xfront' and 'Yfront' removed: E:/intern_work_testing/2d_front_view\\000046.csv\n",
      "Duplicates based on 'Xfront' and 'Yfront' removed: E:/intern_work_testing/2d_front_view\\000047.csv\n",
      "Duplicates based on 'Xfront' and 'Yfront' removed: E:/intern_work_testing/2d_front_view\\000048.csv\n",
      "Duplicates based on 'Xfront' and 'Yfront' removed: E:/intern_work_testing/2d_front_view\\000049.csv\n"
     ]
    }
   ],
   "source": [
    "# edit line 6\n",
    "import os\n",
    "import pandas as pd\n",
    "\n",
    "# Define the path to the folder containing the CSV files\n",
    "folder_path = 'E:/intern_work_testing/2d_front_view'  # Update with your actual folder path\n",
    "\n",
    "# Loop through each file in the folder\n",
    "for filename in os.listdir(folder_path):\n",
    "    # Check if the file is a CSV\n",
    "    if filename.endswith('.csv'):\n",
    "        file_path = os.path.join(folder_path, filename)\n",
    "        \n",
    "        # Load the CSV file into a DataFrame\n",
    "        df = pd.read_csv(file_path)\n",
    "        \n",
    "        # Drop duplicate rows based on the 'Xfront' and 'Yfront' columns only\n",
    "        df = df.drop_duplicates(subset=['Xfront', 'Yfront'])\n",
    "        \n",
    "        # Save the modified DataFrame back to the same CSV file, overwriting it\n",
    "        df.to_csv(file_path, index=False)\n",
    "        \n",
    "        print(f\"Duplicates based on 'Xfront' and 'Yfront' removed: {file_path}\")\n"
   ]
  }
 ],
 "metadata": {
  "kernelspec": {
   "display_name": "Python 3",
   "language": "python",
   "name": "python3"
  },
  "language_info": {
   "codemirror_mode": {
    "name": "ipython",
    "version": 3
   },
   "file_extension": ".py",
   "mimetype": "text/x-python",
   "name": "python",
   "nbconvert_exporter": "python",
   "pygments_lexer": "ipython3",
   "version": "3.12.2"
  }
 },
 "nbformat": 4,
 "nbformat_minor": 2
}
