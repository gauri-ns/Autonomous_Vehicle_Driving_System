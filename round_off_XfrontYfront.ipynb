{
 "cells": [
  {
   "cell_type": "code",
   "execution_count": null,
   "metadata": {},
   "outputs": [
    {
     "name": "stdout",
     "output_type": "stream",
     "text": [
      "Updated 000000.csv\n",
      "Updated 000001.csv\n",
      "Updated 000002.csv\n",
      "Updated 000003.csv\n",
      "Updated 000004.csv\n",
      "Updated 000005.csv\n",
      "Updated 000006.csv\n",
      "Updated 000007.csv\n",
      "Updated 000008.csv\n",
      "Updated 000009.csv\n",
      "Updated 000010.csv\n",
      "Updated 000011.csv\n",
      "Updated 000012.csv\n",
      "Updated 000013.csv\n",
      "Updated 000014.csv\n",
      "Updated 000015.csv\n",
      "Updated 000016.csv\n",
      "Updated 000017.csv\n",
      "Updated 000018.csv\n",
      "Updated 000019.csv\n",
      "Updated 000020.csv\n",
      "Updated 000021.csv\n",
      "Updated 000022.csv\n",
      "Updated 000023.csv\n",
      "Updated 000024.csv\n",
      "Updated 000025.csv\n",
      "Updated 000026.csv\n",
      "Updated 000027.csv\n",
      "Updated 000028.csv\n",
      "Updated 000029.csv\n",
      "Updated 000030.csv\n",
      "Updated 000031.csv\n",
      "Updated 000032.csv\n",
      "Updated 000033.csv\n",
      "Updated 000034.csv\n",
      "Updated 000035.csv\n",
      "Updated 000036.csv\n",
      "Updated 000037.csv\n",
      "Updated 000038.csv\n",
      "Updated 000039.csv\n",
      "Updated 000040.csv\n",
      "Updated 000041.csv\n",
      "Updated 000042.csv\n",
      "Updated 000043.csv\n",
      "Updated 000044.csv\n",
      "Updated 000045.csv\n",
      "Updated 000046.csv\n",
      "Updated 000047.csv\n",
      "Updated 000048.csv\n",
      "Updated 000049.csv\n"
     ]
    }
   ],
   "source": [
    "# edit line 6\n",
    "import os\n",
    "import pandas as pd\n",
    "\n",
    "# Path to the folder containing the CSV files\n",
    "folder_path = 'E:/intern_work_testing/label_obj'\n",
    "\n",
    "# Iterate through each file in the folder\n",
    "for file_name in os.listdir(folder_path):\n",
    "    if file_name.endswith('.csv'):  # Process only CSV files\n",
    "        file_path = os.path.join(folder_path, file_name)\n",
    "        \n",
    "        # Load the CSV file\n",
    "        df = pd.read_csv(file_path)\n",
    "        \n",
    "        # Check if required columns exist\n",
    "        if 'Xfront' in df.columns and 'Yfront' in df.columns:\n",
    "            # Round off the columns to the nearest integer\n",
    "            df['Xfront'] = df['Xfront'].round().astype(int)\n",
    "            df['Yfront'] = df['Yfront'].round().astype(int)\n",
    "            \n",
    "            # Save the updated DataFrame back to the same file\n",
    "            df.to_csv(file_path, index=False)\n",
    "            print(f\"Updated {file_name}\")\n",
    "        else:\n",
    "            print(f\"Skipping {file_name}: Required columns not found.\")\n"
   ]
  }
 ],
 "metadata": {
  "kernelspec": {
   "display_name": "Python 3",
   "language": "python",
   "name": "python3"
  },
  "language_info": {
   "codemirror_mode": {
    "name": "ipython",
    "version": 3
   },
   "file_extension": ".py",
   "mimetype": "text/x-python",
   "name": "python",
   "nbconvert_exporter": "python",
   "pygments_lexer": "ipython3",
   "version": "3.12.2"
  }
 },
 "nbformat": 4,
 "nbformat_minor": 2
}
