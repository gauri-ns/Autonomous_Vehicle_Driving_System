{
 "cells": [
  {
   "cell_type": "code",
   "execution_count": null,
   "metadata": {},
   "outputs": [
    {
     "name": "stdout",
     "output_type": "stream",
     "text": [
      "Successfully modified E:/intern_work_testing/label_obj\\000000.csv\n",
      "Successfully modified E:/intern_work_testing/label_obj\\000001.csv\n",
      "Successfully modified E:/intern_work_testing/label_obj\\000002.csv\n",
      "Successfully modified E:/intern_work_testing/label_obj\\000003.csv\n",
      "Successfully modified E:/intern_work_testing/label_obj\\000004.csv\n",
      "Successfully modified E:/intern_work_testing/label_obj\\000005.csv\n",
      "Successfully modified E:/intern_work_testing/label_obj\\000006.csv\n",
      "Successfully modified E:/intern_work_testing/label_obj\\000007.csv\n",
      "Successfully modified E:/intern_work_testing/label_obj\\000008.csv\n",
      "Successfully modified E:/intern_work_testing/label_obj\\000009.csv\n",
      "Successfully modified E:/intern_work_testing/label_obj\\000010.csv\n",
      "Successfully modified E:/intern_work_testing/label_obj\\000011.csv\n",
      "Successfully modified E:/intern_work_testing/label_obj\\000012.csv\n",
      "Successfully modified E:/intern_work_testing/label_obj\\000013.csv\n",
      "Successfully modified E:/intern_work_testing/label_obj\\000014.csv\n",
      "Successfully modified E:/intern_work_testing/label_obj\\000015.csv\n",
      "Successfully modified E:/intern_work_testing/label_obj\\000016.csv\n",
      "Successfully modified E:/intern_work_testing/label_obj\\000017.csv\n",
      "Successfully modified E:/intern_work_testing/label_obj\\000018.csv\n",
      "Successfully modified E:/intern_work_testing/label_obj\\000019.csv\n",
      "Successfully modified E:/intern_work_testing/label_obj\\000020.csv\n",
      "Successfully modified E:/intern_work_testing/label_obj\\000021.csv\n",
      "Successfully modified E:/intern_work_testing/label_obj\\000022.csv\n",
      "Successfully modified E:/intern_work_testing/label_obj\\000023.csv\n",
      "Successfully modified E:/intern_work_testing/label_obj\\000024.csv\n",
      "Successfully modified E:/intern_work_testing/label_obj\\000025.csv\n",
      "Successfully modified E:/intern_work_testing/label_obj\\000026.csv\n",
      "Successfully modified E:/intern_work_testing/label_obj\\000027.csv\n",
      "Successfully modified E:/intern_work_testing/label_obj\\000028.csv\n",
      "Successfully modified E:/intern_work_testing/label_obj\\000029.csv\n",
      "Successfully modified E:/intern_work_testing/label_obj\\000030.csv\n",
      "Successfully modified E:/intern_work_testing/label_obj\\000031.csv\n",
      "Successfully modified E:/intern_work_testing/label_obj\\000032.csv\n",
      "Successfully modified E:/intern_work_testing/label_obj\\000033.csv\n",
      "Successfully modified E:/intern_work_testing/label_obj\\000034.csv\n",
      "Successfully modified E:/intern_work_testing/label_obj\\000035.csv\n",
      "Successfully modified E:/intern_work_testing/label_obj\\000036.csv\n",
      "Successfully modified E:/intern_work_testing/label_obj\\000037.csv\n",
      "Successfully modified E:/intern_work_testing/label_obj\\000038.csv\n",
      "Successfully modified E:/intern_work_testing/label_obj\\000039.csv\n",
      "Successfully modified E:/intern_work_testing/label_obj\\000040.csv\n",
      "Successfully modified E:/intern_work_testing/label_obj\\000041.csv\n",
      "Successfully modified E:/intern_work_testing/label_obj\\000042.csv\n",
      "Successfully modified E:/intern_work_testing/label_obj\\000043.csv\n",
      "Successfully modified E:/intern_work_testing/label_obj\\000044.csv\n",
      "Successfully modified E:/intern_work_testing/label_obj\\000045.csv\n",
      "Successfully modified E:/intern_work_testing/label_obj\\000046.csv\n",
      "Successfully modified E:/intern_work_testing/label_obj\\000047.csv\n",
      "Successfully modified E:/intern_work_testing/label_obj\\000048.csv\n",
      "Successfully modified E:/intern_work_testing/label_obj\\000049.csv\n"
     ]
    }
   ],
   "source": [
    "# edit line 6\n",
    "import pandas as pd\n",
    "import os\n",
    "\n",
    "# Define the input folder path\n",
    "input_folder = 'E:/intern_work_testing/label_obj'\n",
    "\n",
    "# Loop over each CSV file in the folder\n",
    "for filename in os.listdir(input_folder):\n",
    "    if filename.endswith('.csv'):\n",
    "        file_path = os.path.join(input_folder, filename)\n",
    "        \n",
    "        # Load CSV file\n",
    "        df = pd.read_csv(file_path)\n",
    "        \n",
    "        # Check if Xfront and Yfront columns exist; if not, skip the file\n",
    "        if 'Xfront' not in df.columns or 'Yfront' not in df.columns:\n",
    "            print(f\"Skipping {filename} - 'Xfront' or 'Yfront' columns missing.\")\n",
    "            continue\n",
    "        \n",
    "        # Retain only ObjectType, Xfront, and Yfront columns\n",
    "        df = df[['ObjectType', 'Xfront', 'Yfront']]\n",
    "        \n",
    "        # Save the updated DataFrame back to the original file path\n",
    "        df.to_csv(file_path, index=False)\n",
    "        \n",
    "        print(f'Successfully modified {file_path}')\n"
   ]
  }
 ],
 "metadata": {
  "kernelspec": {
   "display_name": "Python 3",
   "language": "python",
   "name": "python3"
  },
  "language_info": {
   "codemirror_mode": {
    "name": "ipython",
    "version": 3
   },
   "file_extension": ".py",
   "mimetype": "text/x-python",
   "name": "python",
   "nbconvert_exporter": "python",
   "pygments_lexer": "ipython3",
   "version": "3.12.2"
  }
 },
 "nbformat": 4,
 "nbformat_minor": 2
}
