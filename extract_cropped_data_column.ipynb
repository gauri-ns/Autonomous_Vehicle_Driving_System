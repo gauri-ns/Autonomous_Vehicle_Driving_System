{
 "cells": [
  {
   "cell_type": "code",
   "execution_count": 10,
   "metadata": {},
   "outputs": [
    {
     "name": "stdout",
     "output_type": "stream",
     "text": [
      "Cropped points data saved to cropped_points.csv\n"
     ]
    }
   ],
   "source": [
    "import pandas as pd\n",
    "import ast\n",
    "\n",
    "# Load the a.csv file\n",
    "input_file = 'E:/intern_work_testing/label_obj/000000.csv'  # Path to a.csv\n",
    "output_file = 'cropped_points.csv'  # Path for the output CSV file\n",
    "\n",
    "# Read the input file\n",
    "a_df = pd.read_csv(input_file)\n",
    "\n",
    "# Initialize an empty list to store the extracted data\n",
    "cropped_points = []\n",
    "\n",
    "# Iterate over each row in the DataFrame\n",
    "for _, row in a_df.iterrows():\n",
    "    # Parse the cropped_data column (convert string to list of dictionaries)\n",
    "    if pd.notna(row['cropped_data']):\n",
    "        data_list = ast.literal_eval(row['cropped_data'])  # Convert string to list\n",
    "        for point in data_list:\n",
    "            # Add each point to the list\n",
    "            cropped_points.append({\n",
    "                'Xfront': point['Xfront'],\n",
    "                'Yfront': point['Yfront'],\n",
    "                'intensity': point['intensity'],\n",
    "                'time': point['time']\n",
    "            })\n",
    "\n",
    "# Create a DataFrame from the extracted data\n",
    "cropped_points_df = pd.DataFrame(cropped_points)\n",
    "\n",
    "# Save the DataFrame to a new CSV file\n",
    "cropped_points_df.to_csv(output_file, index=False)\n",
    "\n",
    "print(f\"Cropped points data saved to {output_file}\")\n"
   ]
  }
 ],
 "metadata": {
  "kernelspec": {
   "display_name": "Python 3",
   "language": "python",
   "name": "python3"
  },
  "language_info": {
   "codemirror_mode": {
    "name": "ipython",
    "version": 3
   },
   "file_extension": ".py",
   "mimetype": "text/x-python",
   "name": "python",
   "nbconvert_exporter": "python",
   "pygments_lexer": "ipython3",
   "version": "3.12.2"
  }
 },
 "nbformat": 4,
 "nbformat_minor": 2
}
