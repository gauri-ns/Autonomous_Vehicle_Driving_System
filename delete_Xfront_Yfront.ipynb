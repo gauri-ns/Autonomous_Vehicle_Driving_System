{
 "cells": [
  {
   "cell_type": "code",
   "execution_count": 1,
   "metadata": {},
   "outputs": [
    {
     "name": "stdout",
     "output_type": "stream",
     "text": [
      "Processed: 000000.csv - Removed 'Xfront' and 'Yfront'\n",
      "Processed: 000001.csv - Removed 'Xfront' and 'Yfront'\n",
      "Processed: 000002.csv - Removed 'Xfront' and 'Yfront'\n",
      "Processed: 000003.csv - Removed 'Xfront' and 'Yfront'\n",
      "Processed: 000004.csv - Removed 'Xfront' and 'Yfront'\n",
      "Processed: 000005.csv - Removed 'Xfront' and 'Yfront'\n",
      "Processed: 000006.csv - Removed 'Xfront' and 'Yfront'\n",
      "Processed: 000007.csv - Removed 'Xfront' and 'Yfront'\n",
      "Processed: 000008.csv - Removed 'Xfront' and 'Yfront'\n",
      "Processed: 000009.csv - Removed 'Xfront' and 'Yfront'\n",
      "Processed: 000010.csv - Removed 'Xfront' and 'Yfront'\n",
      "Processed: 000011.csv - Removed 'Xfront' and 'Yfront'\n",
      "Processed: 000012.csv - Removed 'Xfront' and 'Yfront'\n",
      "Processed: 000013.csv - Removed 'Xfront' and 'Yfront'\n",
      "Processed: 000014.csv - Removed 'Xfront' and 'Yfront'\n",
      "Processed: 000015.csv - Removed 'Xfront' and 'Yfront'\n",
      "Processed: 000016.csv - Removed 'Xfront' and 'Yfront'\n",
      "Processed: 000017.csv - Removed 'Xfront' and 'Yfront'\n",
      "Processed: 000018.csv - Removed 'Xfront' and 'Yfront'\n",
      "Processed: 000019.csv - Removed 'Xfront' and 'Yfront'\n",
      "Processed: 000020.csv - Removed 'Xfront' and 'Yfront'\n",
      "Processed: 000021.csv - Removed 'Xfront' and 'Yfront'\n",
      "Processed: 000022.csv - Removed 'Xfront' and 'Yfront'\n",
      "Processed: 000023.csv - Removed 'Xfront' and 'Yfront'\n",
      "Processed: 000024.csv - Removed 'Xfront' and 'Yfront'\n",
      "Processed: 000025.csv - Removed 'Xfront' and 'Yfront'\n",
      "Processed: 000026.csv - Removed 'Xfront' and 'Yfront'\n",
      "Processed: 000027.csv - Removed 'Xfront' and 'Yfront'\n",
      "Processed: 000028.csv - Removed 'Xfront' and 'Yfront'\n",
      "Processed: 000029.csv - Removed 'Xfront' and 'Yfront'\n",
      "Processed: 000030.csv - Removed 'Xfront' and 'Yfront'\n",
      "Processed: 000031.csv - Removed 'Xfront' and 'Yfront'\n",
      "Processed: 000032.csv - Removed 'Xfront' and 'Yfront'\n",
      "Processed: 000033.csv - Removed 'Xfront' and 'Yfront'\n",
      "Processed: 000034.csv - Removed 'Xfront' and 'Yfront'\n",
      "Processed: 000035.csv - Removed 'Xfront' and 'Yfront'\n",
      "Processed: 000036.csv - Removed 'Xfront' and 'Yfront'\n",
      "Processed: 000037.csv - Removed 'Xfront' and 'Yfront'\n",
      "Processed: 000038.csv - Removed 'Xfront' and 'Yfront'\n",
      "Processed: 000039.csv - Removed 'Xfront' and 'Yfront'\n",
      "Processed: 000040.csv - Removed 'Xfront' and 'Yfront'\n",
      "Processed: 000041.csv - Removed 'Xfront' and 'Yfront'\n",
      "Processed: 000042.csv - Removed 'Xfront' and 'Yfront'\n",
      "Processed: 000043.csv - Removed 'Xfront' and 'Yfront'\n",
      "Processed: 000044.csv - Removed 'Xfront' and 'Yfront'\n",
      "Processed: 000045.csv - Removed 'Xfront' and 'Yfront'\n",
      "Processed: 000046.csv - Removed 'Xfront' and 'Yfront'\n",
      "Processed: 000047.csv - Removed 'Xfront' and 'Yfront'\n",
      "Processed: 000048.csv - Removed 'Xfront' and 'Yfront'\n",
      "Processed: 000049.csv - Removed 'Xfront' and 'Yfront'\n"
     ]
    }
   ],
   "source": [
    "import os\n",
    "import pandas as pd\n",
    "\n",
    "# Define the folder containing the CSV files\n",
    "folder_path = 'E:/intern_work_testing/label_obj'  # Replace with your actual folder path\n",
    "\n",
    "# Iterate through each file in the folder\n",
    "for file_name in os.listdir(folder_path):\n",
    "    if file_name.endswith('.csv'):  # Process only CSV files\n",
    "        file_path = os.path.join(folder_path, file_name)\n",
    "        \n",
    "        # Load the CSV file\n",
    "        df = pd.read_csv(file_path)\n",
    "        \n",
    "        # Check if 'Xfront' and 'Yfront' columns exist, then drop them\n",
    "        columns_to_drop = ['Xfront', 'Yfront']\n",
    "        df.drop(columns=[col for col in columns_to_drop if col in df.columns], inplace=True)\n",
    "        \n",
    "        # Save the modified DataFrame back to the same file\n",
    "        df.to_csv(file_path, index=False)\n",
    "        print(f\"Processed: {file_name} - Removed 'Xfront' and 'Yfront'\")\n"
   ]
  }
 ],
 "metadata": {
  "kernelspec": {
   "display_name": "Python 3",
   "language": "python",
   "name": "python3"
  },
  "language_info": {
   "codemirror_mode": {
    "name": "ipython",
    "version": 3
   },
   "file_extension": ".py",
   "mimetype": "text/x-python",
   "name": "python",
   "nbconvert_exporter": "python",
   "pygments_lexer": "ipython3",
   "version": "3.12.2"
  }
 },
 "nbformat": 4,
 "nbformat_minor": 2
}
