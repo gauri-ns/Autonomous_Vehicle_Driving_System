{
 "cells": [
  {
   "cell_type": "code",
   "execution_count": null,
   "metadata": {},
   "outputs": [
    {
     "name": "stdout",
     "output_type": "stream",
     "text": [
      "The 'intensity' column has been successfully added to E:/intern_work_testing/2d_front_view/000000.csv and saved as E:/intern_work_testing/2d_front_view/000000.csv\n",
      "The 'intensity' column has been successfully added to E:/intern_work_testing/2d_front_view/000001.csv and saved as E:/intern_work_testing/2d_front_view/000001.csv\n",
      "The 'intensity' column has been successfully added to E:/intern_work_testing/2d_front_view/000002.csv and saved as E:/intern_work_testing/2d_front_view/000002.csv\n",
      "The 'intensity' column has been successfully added to E:/intern_work_testing/2d_front_view/000003.csv and saved as E:/intern_work_testing/2d_front_view/000003.csv\n",
      "The 'intensity' column has been successfully added to E:/intern_work_testing/2d_front_view/000004.csv and saved as E:/intern_work_testing/2d_front_view/000004.csv\n",
      "The 'intensity' column has been successfully added to E:/intern_work_testing/2d_front_view/000005.csv and saved as E:/intern_work_testing/2d_front_view/000005.csv\n",
      "The 'intensity' column has been successfully added to E:/intern_work_testing/2d_front_view/000006.csv and saved as E:/intern_work_testing/2d_front_view/000006.csv\n",
      "The 'intensity' column has been successfully added to E:/intern_work_testing/2d_front_view/000007.csv and saved as E:/intern_work_testing/2d_front_view/000007.csv\n",
      "The 'intensity' column has been successfully added to E:/intern_work_testing/2d_front_view/000008.csv and saved as E:/intern_work_testing/2d_front_view/000008.csv\n",
      "The 'intensity' column has been successfully added to E:/intern_work_testing/2d_front_view/000009.csv and saved as E:/intern_work_testing/2d_front_view/000009.csv\n",
      "The 'intensity' column has been successfully added to E:/intern_work_testing/2d_front_view/000010.csv and saved as E:/intern_work_testing/2d_front_view/000010.csv\n",
      "The 'intensity' column has been successfully added to E:/intern_work_testing/2d_front_view/000011.csv and saved as E:/intern_work_testing/2d_front_view/000011.csv\n",
      "The 'intensity' column has been successfully added to E:/intern_work_testing/2d_front_view/000012.csv and saved as E:/intern_work_testing/2d_front_view/000012.csv\n",
      "The 'intensity' column has been successfully added to E:/intern_work_testing/2d_front_view/000013.csv and saved as E:/intern_work_testing/2d_front_view/000013.csv\n",
      "The 'intensity' column has been successfully added to E:/intern_work_testing/2d_front_view/000014.csv and saved as E:/intern_work_testing/2d_front_view/000014.csv\n",
      "The 'intensity' column has been successfully added to E:/intern_work_testing/2d_front_view/000015.csv and saved as E:/intern_work_testing/2d_front_view/000015.csv\n",
      "The 'intensity' column has been successfully added to E:/intern_work_testing/2d_front_view/000016.csv and saved as E:/intern_work_testing/2d_front_view/000016.csv\n",
      "The 'intensity' column has been successfully added to E:/intern_work_testing/2d_front_view/000017.csv and saved as E:/intern_work_testing/2d_front_view/000017.csv\n",
      "The 'intensity' column has been successfully added to E:/intern_work_testing/2d_front_view/000018.csv and saved as E:/intern_work_testing/2d_front_view/000018.csv\n",
      "The 'intensity' column has been successfully added to E:/intern_work_testing/2d_front_view/000019.csv and saved as E:/intern_work_testing/2d_front_view/000019.csv\n",
      "The 'intensity' column has been successfully added to E:/intern_work_testing/2d_front_view/000020.csv and saved as E:/intern_work_testing/2d_front_view/000020.csv\n",
      "The 'intensity' column has been successfully added to E:/intern_work_testing/2d_front_view/000021.csv and saved as E:/intern_work_testing/2d_front_view/000021.csv\n",
      "The 'intensity' column has been successfully added to E:/intern_work_testing/2d_front_view/000022.csv and saved as E:/intern_work_testing/2d_front_view/000022.csv\n",
      "The 'intensity' column has been successfully added to E:/intern_work_testing/2d_front_view/000023.csv and saved as E:/intern_work_testing/2d_front_view/000023.csv\n",
      "The 'intensity' column has been successfully added to E:/intern_work_testing/2d_front_view/000024.csv and saved as E:/intern_work_testing/2d_front_view/000024.csv\n",
      "The 'intensity' column has been successfully added to E:/intern_work_testing/2d_front_view/000025.csv and saved as E:/intern_work_testing/2d_front_view/000025.csv\n",
      "The 'intensity' column has been successfully added to E:/intern_work_testing/2d_front_view/000026.csv and saved as E:/intern_work_testing/2d_front_view/000026.csv\n",
      "The 'intensity' column has been successfully added to E:/intern_work_testing/2d_front_view/000027.csv and saved as E:/intern_work_testing/2d_front_view/000027.csv\n",
      "The 'intensity' column has been successfully added to E:/intern_work_testing/2d_front_view/000028.csv and saved as E:/intern_work_testing/2d_front_view/000028.csv\n",
      "The 'intensity' column has been successfully added to E:/intern_work_testing/2d_front_view/000029.csv and saved as E:/intern_work_testing/2d_front_view/000029.csv\n",
      "The 'intensity' column has been successfully added to E:/intern_work_testing/2d_front_view/000030.csv and saved as E:/intern_work_testing/2d_front_view/000030.csv\n",
      "The 'intensity' column has been successfully added to E:/intern_work_testing/2d_front_view/000031.csv and saved as E:/intern_work_testing/2d_front_view/000031.csv\n",
      "The 'intensity' column has been successfully added to E:/intern_work_testing/2d_front_view/000032.csv and saved as E:/intern_work_testing/2d_front_view/000032.csv\n",
      "The 'intensity' column has been successfully added to E:/intern_work_testing/2d_front_view/000033.csv and saved as E:/intern_work_testing/2d_front_view/000033.csv\n",
      "The 'intensity' column has been successfully added to E:/intern_work_testing/2d_front_view/000034.csv and saved as E:/intern_work_testing/2d_front_view/000034.csv\n",
      "The 'intensity' column has been successfully added to E:/intern_work_testing/2d_front_view/000035.csv and saved as E:/intern_work_testing/2d_front_view/000035.csv\n",
      "The 'intensity' column has been successfully added to E:/intern_work_testing/2d_front_view/000036.csv and saved as E:/intern_work_testing/2d_front_view/000036.csv\n",
      "The 'intensity' column has been successfully added to E:/intern_work_testing/2d_front_view/000037.csv and saved as E:/intern_work_testing/2d_front_view/000037.csv\n",
      "The 'intensity' column has been successfully added to E:/intern_work_testing/2d_front_view/000038.csv and saved as E:/intern_work_testing/2d_front_view/000038.csv\n",
      "The 'intensity' column has been successfully added to E:/intern_work_testing/2d_front_view/000039.csv and saved as E:/intern_work_testing/2d_front_view/000039.csv\n",
      "The 'intensity' column has been successfully added to E:/intern_work_testing/2d_front_view/000040.csv and saved as E:/intern_work_testing/2d_front_view/000040.csv\n",
      "The 'intensity' column has been successfully added to E:/intern_work_testing/2d_front_view/000041.csv and saved as E:/intern_work_testing/2d_front_view/000041.csv\n",
      "The 'intensity' column has been successfully added to E:/intern_work_testing/2d_front_view/000042.csv and saved as E:/intern_work_testing/2d_front_view/000042.csv\n",
      "The 'intensity' column has been successfully added to E:/intern_work_testing/2d_front_view/000043.csv and saved as E:/intern_work_testing/2d_front_view/000043.csv\n",
      "The 'intensity' column has been successfully added to E:/intern_work_testing/2d_front_view/000044.csv and saved as E:/intern_work_testing/2d_front_view/000044.csv\n",
      "The 'intensity' column has been successfully added to E:/intern_work_testing/2d_front_view/000045.csv and saved as E:/intern_work_testing/2d_front_view/000045.csv\n",
      "The 'intensity' column has been successfully added to E:/intern_work_testing/2d_front_view/000046.csv and saved as E:/intern_work_testing/2d_front_view/000046.csv\n",
      "The 'intensity' column has been successfully added to E:/intern_work_testing/2d_front_view/000047.csv and saved as E:/intern_work_testing/2d_front_view/000047.csv\n",
      "The 'intensity' column has been successfully added to E:/intern_work_testing/2d_front_view/000048.csv and saved as E:/intern_work_testing/2d_front_view/000048.csv\n",
      "The 'intensity' column has been successfully added to E:/intern_work_testing/2d_front_view/000049.csv and saved as E:/intern_work_testing/2d_front_view/000049.csv\n"
     ]
    }
   ],
   "source": [
    "# edit line no. 6,7,21\n",
    "import pandas as pd\n",
    "\n",
    "\n",
    "for i in range(0, 50):\n",
    "    b = f'E:/intern_work_testing/2d_front_view/{i:06}.csv'\n",
    "    a = f'E:/intern_work_testing/converted_csv_dataset/{i:06}.csv'\n",
    "   \n",
    "    # Load the files\n",
    "    a_df = pd.read_csv(a)\n",
    "    b_df = pd.read_csv(b)\n",
    "\n",
    "\n",
    "    # Ensure that both dataframes have the same number of rows to align 'intensity' correctly\n",
    "    if len(a_df) == len(b_df):\n",
    "        # Add the 'intensity' column from a.csv to b.csv\n",
    "        b_df['intensity'] = a_df['intensity']\n",
    "        b_df['time'] = a_df['time']\n",
    "       \n",
    "        # Save each updated b.csv with a unique filename in the same directory or another location\n",
    "        output_path = f'E:/intern_work_testing/2d_front_view/{i:06}.csv'\n",
    "        b_df.to_csv(output_path, index=False)\n",
    "        print(f\"The 'intensity' column has been successfully added to {b} and saved as {output_path}\")\n",
    "    else:\n",
    "        print(f\"Error: The files {a} and {b} do not have the same number of rows.\")\n"
   ]
  }
 ],
 "metadata": {
  "kernelspec": {
   "display_name": "Python 3",
   "language": "python",
   "name": "python3"
  },
  "language_info": {
   "codemirror_mode": {
    "name": "ipython",
    "version": 3
   },
   "file_extension": ".py",
   "mimetype": "text/x-python",
   "name": "python",
   "nbconvert_exporter": "python",
   "pygments_lexer": "ipython3",
   "version": "3.12.2"
  }
 },
 "nbformat": 4,
 "nbformat_minor": 2
}
